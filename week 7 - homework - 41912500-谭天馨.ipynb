{
 "cells": [
  {
   "cell_type": "markdown",
   "metadata": {},
   "source": [
    "<table border=0 width=\"100%\"><tr><td><p align=\"left\"><img src=\"..\\img\\logo.png\" align=\"left\" width=300></p></td><td><font size=3><B>第七周 课后作业</B></font></td></tr></table>"
   ]
  },
  {
   "cell_type": "markdown",
   "metadata": {},
   "source": [
    "提交作业：\n",
    "- 在线提交：http://swufe.fanya.chaoxing.com/portal\n",
    "- 截止日期：2022年4月13日晚上20点\n",
    "\n",
    "提交文件命名：\n",
    "- week 7 - homework - 学号-姓名.ipynb\n",
    "\n",
    "- 如果用word编辑，也请将word文档命名为：week 7 - homework - 学号-姓名\n",
    "\n",
    "请使用你的学号和姓名替换“学号”和“姓名”。"
   ]
  },
  {
   "cell_type": "markdown",
   "metadata": {},
   "source": [
    "# 为个人项目写研究计划\n",
    "\n",
    "- 尽可能详细\n",
    "- 可以直接在jupyter中写，也可以用word写作。"
   ]
  },
  {
   "cell_type": "markdown",
   "metadata": {},
   "source": [
    "## 研究问题和研究目标\n",
    "- 明确列出研究问题,并解释研究问题重要性\n",
    "> why do you plan conduct that question, provide empirical evidences or references to support your arguments. If you do not know how cite a sources, please click [How to cite sources](https://www.scribbr.com/category/citing-sources/)\n",
    "- 研究具体要达到的目标(预期理论贡献和实践价值）"
   ]
  },
  {
   "cell_type": "markdown",
   "metadata": {},
   "source": [
    "- 基于Brinson模型对中国整体股票市场收益率的归因分析\n",
    "> 当今金融学科与金融行业最具深远影响的两大理论模型为资本资产定价模型和其衍生出的Fama-French 三因子模型。大量的金融研究和实践操作都围绕它们建立理论框架和投资策略。资本资产定价模型（Capital Asset Pricing Model 简称 CAPM）是由美国学者 William Sharpe[<sup>1</sup>](#refer-anchor-1)、John Lintner[<sup>2</sup>](#refer-anchor-2) 和 Jan Mossin[<sup>3</sup>](#refer-anchor-3) 等人 20 世纪60 年代在资产组合理论和资本市场理论的基础上发展起来的，主要研究证券市场中资产的预期收益率与风险资产之间的关系，以及均衡价格是如何形成的。<br>\n",
    ">CAPM 描述了系统风险（主要是市场风险）与资产（尤其是股票）的预期回报之间的关系，在整个金融领域被广泛用于为风险证券定价。Fama-French 三因子模型基于 CAPM，在市场风险溢价因子之外，增加了市值因子和账面市值比因子[<sup>4</sup>](#refer-anchor-4)。二者是现今股票投资的核心选股手段。但根据CAPM理论和无套利假设，超额收益α在绝大部分情况下为0，单只股票的收益主要总是来自市场因子，也就是来自市场整体发展带来的收益。<br>\n",
    ">因此，任何希望进入股市的投资者都应当评估未来市场收益率的走向。然而在CAPM和Fama-French 三因子模型中，市场收益率总是被视作一个底层的组成部分，仅仅由一段时间内市场收益率的平均数代表，导致人们较少把它当作问题主体来考虑，缺少对市场收益率本身进行量化分析的方法。投资者更关注个股的超额收益和个股之间风险的对冲，对市场收益率的研究不足。散户也应该重视对市场收益率状况的判断，因为散户资金体量小，往往不能通过构建足够丰富的投资组合来对冲掉足够多的风险。因此，增加对市场收益率的理解就更加重要。\n",
    "- 研究具体要达到的目标(预期理论贡献和实践价值）\n",
    ">分析出市场整体的收益率主要是来自于不同行业间资源的合理配置还是个别（主要是头部公司）股票的高增长带来的。将整个市场视作一个投资组合进行考察，也就是考察社会经济整体的运行效率。股市是国民投资的重要领域，通过将股市的资产配置收益和选股收益分离，也许可以启发政府，究竟什么才是推动经济进步的关键或短板：经济结构，还是明星企业。这种分离也能为小股民投资提供建议：如果市场收益率主要是由某些企业的增长带来的，谨慎的选股和则时就更加重要；如果市场收益率主要是健康的投资结构带来的，长期价值投资的吸引力会更高。"
   ]
  },
  {
   "cell_type": "markdown",
   "metadata": {},
   "source": [
    "## 建模与数据分析计划\n",
    "\n",
    "列出研究目标和可能使用的模型，数据分析可能使用的python工具\n"
   ]
  },
  {
   "cell_type": "markdown",
   "metadata": {},
   "source": [
    "- 研究目标\n",
    ">根据Brinson模型计算出不同阶段股市整体收益率中有多少是配置超额收益率，有多少是选股超额收益率。\n",
    "- Brinson模型\n",
    ">Brinson 模型是最常用的绩效分解模型，由Brinson和Fachler提出[<sup>5</sup>](#refer-anchor-5)。它的一个最大优点是简单直观。为了利用该模型分解市场收益率，本文构建了一个股票基金，该基金按市值比例购买了国内的全部股票，并且一直保持满仓。我们想知道这个基金的收益多少来源于对行业的选择，多少来源于对个股的选择。为此假设：<br>\n",
    "实际组合P:在这一期的收益率为$r_p$，各个行业的权重和收益率分别为$w_{p,i}$和$r_{p,i}$<br>\n",
    "基准组合B:同样时间内，账户基准的收益率为$r_b$,各个行业的权重和收益率分别为$w_{b,i}$和$r_{b,i}$<br>\n",
    "（B1:行业权重平均分配，基准收益率为rf，行业基准收益率为全行业（包括未上市公司）的收益率）<br>\n",
    "（B2:行业权重为全行业（包括未上市公司）的行业权重，基准收益率为rf，行业基准收益率为全行业（包括未上市公司）的收益率）<br>\n",
    "配置组合A:只使用实际组合P的资产配置权重，不考虑投资选股的差异<br>\n",
    "选股组合S:组合的资产配置权重和基准一样，但每个行业里配置的股票和实际组合保持一致，即每个行业的收益率和实际组合一样。<br>\n",
    "选股组合S和基准组合B的收益差异为组合的选股超额收益率$r_{P,S}$:<br>\n",
    "$$r_{P,S}=r_a-r_b=\\sum (r_{p,i}-r_{b,i})w_{b,i}$$\n",
    "配置组合A和基准组合B的收益率差异为组合的配置超额收益率$r_{P,A}$\n",
    "$$r_{P,A}=r_a-r_b=\\sum (r_{b,i}-r_b)(w_{P,i}-w_{b,i})$$\n",
    "选股组合S和配置组合A之外的收益称为交叉收益$r_{P,I}$\n",
    "$$R_p-R_b=r_{P,S}+r_{P,A}+r_{P,I}$$\n",
    "- python工具\n",
    ">python引用包：statsmodels，seaborn，matplotlib，sklearn<br>\n",
    "计量相关代码参考：https://blog.csdn.net/xuxiatian/article/details/55002412?ops_request_misc=%257B%2522request%255Fid%2522%253A%2522164977632416782089371573%2522%252C%2522scm%2522%253A%252220140713.130102334.pc%255Fall.%2522%257D&request_id=164977632416782089371573&biz_id=0&utm_medium=distribute.pc_search_result.none-task-blog-2~all~first_rank_ecpm_v1~rank_v31_ecpm-3-55002412.142^v7^pc_search_result_cache,157^v4^control&utm_term=python+%E8%AE%A1%E9%87%8F%E5%8C%85&spm=1018.2226.3001.4187\n",
    "绘图相关代码参考：https://blog.csdn.net/weixin_44078196/article/details/100656515?ops_request_misc=%257B%2522request%255Fid%2522%253A%2522164977687816780269899400%2522%252C%2522scm%2522%253A%252220140713.130102334.pc%255Fall.%2522%257D&request_id=164977687816780269899400&biz_id=0&utm_medium=distribute.pc_search_result.none-task-blog-2~all~first_rank_ecpm_v1~rank_v31_ecpm-1-100656515.142^v7^pc_search_result_cache,157^v4^control&utm_term=python%E7%94%BB%E5%9B%BE&spm=1018.2226.3001.4187"
   ]
  },
  {
   "cell_type": "markdown",
   "metadata": {},
   "source": [
    "## 数据源和数据采集\n",
    "列出数据源和数据采集方法"
   ]
  },
  {
   "cell_type": "markdown",
   "metadata": {},
   "source": [
    "行业分类：《上市公司行业分类指引》（证监会公告〔2012〕31号）<br>\n",
    "个股收益率及行业名称调用方法（tushare）：http://tushare.org/classifying.html#id2<br>\n",
    "场外全行业市值及收益率等：Choice金融终端<br>\n",
    "其他可能来源：国家统计局https://data.stats.gov.cn/index.htm 、彭博（图书馆）、Wind（图书馆），根据之后的具体分析的需要选择"
   ]
  },
  {
   "cell_type": "markdown",
   "metadata": {},
   "source": [
    "## 时间安排 \n",
    "将工作步骤分解，并列出每个步骤的时间安排"
   ]
  },
  {
   "cell_type": "markdown",
   "metadata": {},
   "source": [
    "- 第一周\n",
    ">行业分类与时间段划分<br>\n",
    "查阅一般经济学行业划分方法与思想，在《上市公司行业分类指引》的基础上简化行业划分方式<br>\n",
    "查询中国经济发展历史，找出经济结构发生变化的重要历史节点，从而划分出可以形成相互对照的时间区间<br>\n",
    ">详细设计出P、B、A、S四个相互对照的投资组合，增加对它们相互关系的理解和阐述\n",
    "\n",
    "- 第二周\n",
    ">下载数据并处理，形成清晰的表格\n",
    ">按照目标计算各个指标并进行结果分析\n",
    "\n",
    "- 第三周\n",
    ">对研究进行完善和补充,形成论文\n",
    ">发布"
   ]
  },
  {
   "cell_type": "markdown",
   "metadata": {},
   "source": [
    "## 研究报告的发表出口\n",
    "\n",
    "列出你计划的研究报告发表出口，可以是期刊、会议、github等"
   ]
  },
  {
   "cell_type": "markdown",
   "metadata": {},
   "source": [
    "Github个人账户https://github.com/Auguse/Attempt-to-disassemble-Rm.git"
   ]
  },
  {
   "cell_type": "markdown",
   "metadata": {},
   "source": [
    "## 参考文献"
   ]
  },
  {
   "cell_type": "markdown",
   "metadata": {},
   "source": [
    "<div id=\"refer-anchor-1\"></div>\n",
    "- [1] Sharpe, W. F. (1964a). Capital Asset Prices: A Theory of Market Equilibrium under Conditions of Risk. The Journal of Finance, 19(3), 425.\n",
    "\n",
    "https://doi.org/10.2307/2977928\n",
    "\n",
    "<div id=\"refer-anchor-2\"></div>\n",
    "-[2] Lintner, J. (1965). The Valuation of Risk Assets and the Selection of Risky Investments in Stock Portfolios and Capital Budgets. The Review of Economics and Statistics, 47(1), 13. \n",
    "\n",
    "https://doi.org/10.2307/1924119\n",
    "\n",
    "<div id=\"refer-anchor-3\"></div>\n",
    "-[3] Mossin, J. (1966). Equilibrium in a Capital Asset Market. Econometrica, 34(4), 768.\n",
    "\n",
    "https://doi.org/10.2307/1910098\n",
    "\n",
    "<div id=\"refer-anchor-4\"></div>\n",
    "-[4] Fama, E. F., & French, K. R. (1993a). Common risk factors in the returns on stocks and bonds. Journal of Financial Economics, 33(1), 3–56. \n",
    "\n",
    "https://doi.org/10.1016/0304-405x(93)90023-5\n",
    "\n",
    "<div id=\"refer-anchor-5\"></div>\n",
    "-[5] Brinson, G. P., & Fachler, N. (1985). Measuring non-US. equity portfolio performance. The Journal of Portfolio Management, 11(3), 73–76.\n",
    "\n",
    "https://doi.org/10.3905/jpm.1985.409005"
   ]
  }
 ],
 "metadata": {
  "anaconda-cloud": {},
  "celltoolbar": "幻灯片",
  "kernelspec": {
   "display_name": "Python 3 (ipykernel)",
   "language": "python",
   "name": "python3"
  },
  "language_info": {
   "codemirror_mode": {
    "name": "ipython",
    "version": 3
   },
   "file_extension": ".py",
   "mimetype": "text/x-python",
   "name": "python",
   "nbconvert_exporter": "python",
   "pygments_lexer": "ipython3",
   "version": "3.9.7"
  },
  "toc": {
   "base_numbering": 1,
   "nav_menu": {
    "height": "11.9886px",
    "width": "160px"
   },
   "number_sections": true,
   "sideBar": true,
   "skip_h1_title": false,
   "title_cell": "Table of Contents",
   "title_sidebar": "Contents",
   "toc_cell": false,
   "toc_position": {
    "height": "calc(100% - 180px)",
    "left": "10px",
    "top": "150px",
    "width": "165px"
   },
   "toc_section_display": true,
   "toc_window_display": true
  }
 },
 "nbformat": 4,
 "nbformat_minor": 1
}
